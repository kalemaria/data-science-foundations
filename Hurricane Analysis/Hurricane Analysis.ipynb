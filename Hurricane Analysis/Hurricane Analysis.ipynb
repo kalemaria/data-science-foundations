{
 "cells": [
  {
   "cell_type": "markdown",
   "id": "58875e7a",
   "metadata": {},
   "source": [
    "# Hurricane Analysis"
   ]
  },
  {
   "cell_type": "markdown",
   "id": "9a2d9627",
   "metadata": {},
   "source": [
    "#### Overview"
   ]
  },
  {
   "cell_type": "markdown",
   "id": "633e5dde",
   "metadata": {},
   "source": [
    "This project is slightly different than others you have encountered thus far. Instead of a step-by-step tutorial, this project contains a series of open-ended requirements which describe the project you'll be building. There are many possible ways to correctly fulfill all of these requirements, and you should expect to use the internet, Codecademy, and other resources when you encounter a problem that you cannot easily solve."
   ]
  },
  {
   "cell_type": "markdown",
   "id": "52f01f07",
   "metadata": {},
   "source": [
    "#### Project Goals"
   ]
  },
  {
   "cell_type": "markdown",
   "id": "d9d06c43",
   "metadata": {},
   "source": [
    "You will work to write several functions that organize and manipulate data about Category 5 Hurricanes, the strongest hurricanes as rated by their wind speed. Each one of these functions will use a number of parameters, conditionals, lists, dictionaries, string manipulation, and return statements."
   ]
  },
  {
   "cell_type": "markdown",
   "id": "7fbb9fb5",
   "metadata": {},
   "source": [
    "#### Prerequisites"
   ]
  },
  {
   "cell_type": "markdown",
   "id": "4732a1e8",
   "metadata": {},
   "source": [
    "In order to complete this project, you should have completed the Loops and Dictionaries sections of the [Learn Python 3 Course](https://www.codecademy.com/learn/learn-python-3). This content is also covered in the [Data Scientist Career Path](https://www.codecademy.com/learn/paths/data-science/)."
   ]
  },
  {
   "cell_type": "markdown",
   "id": "1e924903",
   "metadata": {},
   "source": [
    "## Project Requirements"
   ]
  },
  {
   "cell_type": "markdown",
   "id": "35d6f74d",
   "metadata": {},
   "source": [
    "1. Hurricanes, also known as cyclones or typhoons, are one of the most powerful forces of nature on Earth. Due to climate change caused by human activity, the number and intensity of hurricanes has risen, calling for better preparation by the many communities that are devastated by them. As a concerned environmentalist, you want to look at data about the most powerful hurricanes that have occured. \n",
    "\n",
    "   Begin by looking at the `damages` list. The list contains strings representing the total cost in USD(`$`) caused by `34` category 5 hurricanes (wind speeds $\\ge$ 157 mph (252 km/h)) in the Atlantic region. For some of the hurricanes, damage data was not recorded (`\"Damages not recorded\"`), while the rest are written in the format `\"Prefix-B/M\"`, where `B` stands for billions (`1000000000`) and `M` stands for millions (`1000000`).\n",
    "   \n",
    "   Write a function that returns a new list of updated damages where the recorded data is converted to float values and the missing data is retained as `\"Damages not recorded\"`.\n",
    "   \n",
    "   Test your function with the data stored in `damages`."
   ]
  },
  {
   "cell_type": "code",
   "execution_count": 250,
   "id": "d8d3c50b",
   "metadata": {},
   "outputs": [
    {
     "name": "stdout",
     "output_type": "stream",
     "text": [
      "['Damages not recorded', 100000000.0, 'Damages not recorded', 40000000.0, 27900000.0, 5000000.0, 'Damages not recorded', 306000000.0, 2000000.0, 65800000.0, 326000000.0, 60300000.0, 208000000.0, 1420000000.0, 25400000.0, 'Damages not recorded', 1540000000.0, 1240000000.0, 7100000000.0, 10000000000.0, 26500000000.0, 6200000000.0, 5370000000.0, 23300000000.0, 1010000000.0, 125000000000.0, 12000000000.0, 29400000000.0, 1760000000.0, 720000000.0, 15100000000.0, 64800000000.0, 91600000000.0, 25100000000.0]\n"
     ]
    }
   ],
   "source": [
    "# damages (USD($)) of hurricanes\n",
    "damages = ['Damages not recorded', '100M', 'Damages not recorded', '40M',\n",
    "          '27.9M', '5M', 'Damages not recorded', '306M', '2M', '65.8M',\n",
    "          '326M', '60.3M', '208M', '1.42B', '25.4M', 'Damages not recorded',\n",
    "          '1.54B', '1.24B', '7.1B', '10B', '26.5B', '6.2B', '5.37B', '23.3B',\n",
    "          '1.01B', '125B', '12B', '29.4B', '1.76B', '720M', '15.1B', '64.8B',\n",
    "          '91.6B', '25.1B']\n",
    "\n",
    "# 1\n",
    "# Update Recorded Damages\n",
    "conversion = {\"M\": 1000000,\n",
    "             \"B\": 1000000000}\n",
    "\n",
    "def convert_to_floats(values):\n",
    "    converted_values = []\n",
    "    for value in values:\n",
    "        last_char = value[-1]\n",
    "        if last_char in \"BM\":\n",
    "            value = float(value[:-1]) * conversion[last_char]\n",
    "        converted_values.append(value)\n",
    "    return converted_values\n",
    "# test function by updating damages\n",
    "updated_damages = convert_to_floats(damages)\n",
    "print(updated_damages)"
   ]
  },
  {
   "cell_type": "code",
   "execution_count": 251,
   "id": "7e268f56",
   "metadata": {},
   "outputs": [],
   "source": [
    "import pandas as pd"
   ]
  },
  {
   "cell_type": "markdown",
   "id": "e45c17ab",
   "metadata": {},
   "source": [
    "`Refactoring: part 1`"
   ]
  },
  {
   "cell_type": "code",
   "execution_count": 299,
   "id": "e6461161",
   "metadata": {},
   "outputs": [],
   "source": [
    "# It is suggested to use list comprehension and this is much shorter so you can consider this as an important alternative.\n",
    "def convert(list):\n",
    "    return [float(elem[:-1])*conversion[elem[-1]] if elem[-1] in 'BM' else elem for elem in list]\n",
    "#print(convert(damages))"
   ]
  },
  {
   "cell_type": "markdown",
   "id": "36ac47b6",
   "metadata": {},
   "source": [
    "2. Additional data collected on the `34` strongest Atlantic hurricanes are provided in a series of lists. The data includes:\n",
    "   - `names`: names of the hurricanes\n",
    "   - `months`: months in which the hurricanes occurred\n",
    "   - `years`: years in which the hurricanes occurred\n",
    "   - `max_sustained_winds`: maximum sustained winds (miles per hour) of the hurricanes\n",
    "   - `areas_affected`: list of different areas affected by each of the hurricanes\n",
    "   - `deaths`: total number of deaths caused by each of the hurricanes\n",
    "   \n",
    "   The data is organized such that the data at each index, from `0` to `33`, corresponds to the same hurricane.\n",
    "   \n",
    "   For example, `names[0]` yields the \"Cuba I\" hurricane, which occurred in `months[0]` (October) `years[0]` (1924).\n",
    "   \n",
    "   Write a function that constructs a dictionary made out of the lists, where the keys of the dictionary are the names of the hurricanes, and the values are dictionaries themselves containing a key for each piece of data (`Name`, `Month`, `Year`, `Max Sustained Wind`, `Areas Affected`, `Damage`, `Death`) about the hurricane.\n",
    "   \n",
    "   Thus the key `\"Cuba I\"` would have the value: `{'Name': 'Cuba I', 'Month': 'October', 'Year': 1924, 'Max Sustained Wind': 165, 'Areas Affected': ['Central America', 'Mexico', 'Cuba', 'Florida', 'The Bahamas'], 'Damage': 'Damages not recorded', 'Deaths': 90}`.\n",
    "   \n",
    "   Test your function on the lists of data provided."
   ]
  },
  {
   "cell_type": "code",
   "execution_count": 254,
   "id": "641aa113",
   "metadata": {},
   "outputs": [],
   "source": [
    "# names of hurricanes\n",
    "names = ['Cuba I', 'San Felipe II Okeechobee', 'Bahamas', 'Cuba II', 'CubaBrownsville', 'Tampico', 'Labor Day', 'New England', 'Carol', 'Janet', 'Carla', 'Hattie', 'Beulah', 'Camille', 'Edith', 'Anita', 'David', 'Allen', 'Gilbert', 'Hugo', 'Andrew', 'Mitch', 'Isabel', 'Ivan', 'Emily', 'Katrina', 'Rita', 'Wilma', 'Dean', 'Felix', 'Matthew', 'Irma', 'Maria', 'Michael']\n",
    "\n",
    "# months of hurricanes\n",
    "months = ['October', 'September', 'September', 'November', 'August', 'September', 'September', 'September', 'September', 'September', 'September', 'October', 'September', 'August', 'September', 'September', 'August', 'August', 'September', 'September', 'August', 'October', 'September', 'September', 'July', 'August', 'September', 'October', 'August', 'September', 'October', 'September', 'September', 'October']\n",
    "\n",
    "# years of hurricanes\n",
    "years = [1924, 1928, 1932, 1932, 1933, 1933, 1935, 1938, 1953, 1955, 1961, 1961, 1967, 1969, 1971, 1977, 1979, 1980, 1988, 1989, 1992, 1998, 2003, 2004, 2005, 2005, 2005, 2005, 2007, 2007, 2016, 2017, 2017, 2018]\n",
    "\n",
    "# maximum sustained winds (mph) of hurricanes\n",
    "max_sustained_winds = [165, 160, 160, 175, 160, 160, 185, 160, 160, 175, 175, 160, 160, 175, 160, 175, 175, 190, 185, 160, 175, 180, 165, 165, 160, 175, 180, 185, 175, 175, 165, 180, 175, 160]\n",
    "\n",
    "# areas affected by each hurricane\n",
    "areas_affected = [['Central America', 'Mexico', 'Cuba', 'Florida', 'The Bahamas'], ['Lesser Antilles', 'The Bahamas', 'United States East Coast', 'Atlantic Canada'], ['The Bahamas', 'Northeastern United States'], ['Lesser Antilles', 'Jamaica', 'Cayman Islands', 'Cuba', 'The Bahamas', 'Bermuda'], ['The Bahamas', 'Cuba', 'Florida', 'Texas', 'Tamaulipas'], ['Jamaica', 'Yucatn Peninsula'], ['The Bahamas', 'Florida', 'Georgia', 'The Carolinas', 'Virginia'], ['Southeastern United States', 'Northeastern United States', 'Southwestern Quebec'], ['Bermuda', 'New England', 'Atlantic Canada'], ['Lesser Antilles', 'Central America'], ['Texas', 'Louisiana', 'Midwestern United States'], ['Central America'], ['The Caribbean', 'Mexico', 'Texas'], ['Cuba', 'United States Gulf Coast'], ['The Caribbean', 'Central America', 'Mexico', 'United States Gulf Coast'], ['Mexico'], ['The Caribbean', 'United States East coast'], ['The Caribbean', 'Yucatn Peninsula', 'Mexico', 'South Texas'], ['Jamaica', 'Venezuela', 'Central America', 'Hispaniola', 'Mexico'], ['The Caribbean', 'United States East Coast'], ['The Bahamas', 'Florida', 'United States Gulf Coast'], ['Central America', 'Yucatn Peninsula', 'South Florida'], ['Greater Antilles', 'Bahamas', 'Eastern United States', 'Ontario'], ['The Caribbean', 'Venezuela', 'United States Gulf Coast'], ['Windward Islands', 'Jamaica', 'Mexico', 'Texas'], ['Bahamas', 'United States Gulf Coast'], ['Cuba', 'United States Gulf Coast'], ['Greater Antilles', 'Central America', 'Florida'], ['The Caribbean', 'Central America'], ['Nicaragua', 'Honduras'], ['Antilles', 'Venezuela', 'Colombia', 'United States East Coast', 'Atlantic Canada'], ['Cape Verde', 'The Caribbean', 'British Virgin Islands', 'U.S. Virgin Islands', 'Cuba', 'Florida'], ['Lesser Antilles', 'Virgin Islands', 'Puerto Rico', 'Dominican Republic', 'Turks and Caicos Islands'], ['Central America', 'United States Gulf Coast (especially Florida Panhandle)']]\n",
    "\n",
    "# damages (USD($)) of hurricanes\n",
    "damages = ['Damages not recorded', '100M', 'Damages not recorded', '40M', '27.9M', '5M', 'Damages not recorded', '306M', '2M', '65.8M', '326M', '60.3M', '208M', '1.42B', '25.4M', 'Damages not recorded', '1.54B', '1.24B', '7.1B', '10B', '26.5B', '6.2B', '5.37B', '23.3B', '1.01B', '125B', '12B', '29.4B', '1.76B', '720M', '15.1B', '64.8B', '91.6B', '25.1B']\n",
    "\n",
    "# deaths for each hurricane\n",
    "deaths = [90,4000,16,3103,179,184,408,682,5,1023,43,319,688,259,37,11,2068,269,318,107,65,19325,51,124,17,1836,125,87,45,133,603,138,3057,74]\n",
    "\n",
    "# 2\n",
    "# Create a Table\n",
    "def construct_hurricanes_dictionary(names, months, years, max_sustained_winds, areas_affected,\n",
    "                                   damages, deaths):\n",
    "    hurricanes_dictionary = {}\n",
    "    for i in range(len(names)):\n",
    "        hurricanes_dictionary[names[i]] = {\n",
    "            'Name': names[i],\n",
    "            'Month': months[i],\n",
    "            'Year': years[i],\n",
    "            'Max Sustained Wind': max_sustained_winds[i],\n",
    "            'Areas Affected': areas_affected[i],\n",
    "            'Damage': damages[i],\n",
    "            'Deaths': deaths[i]\n",
    "        }\n",
    "    return hurricanes_dictionary\n",
    "\n",
    "# Create and view the hurricanes dictionary\n",
    "hurricanes_dictionary = construct_hurricanes_dictionary(names, months, years, max_sustained_winds, areas_affected,\n",
    "                                   damages, deaths)\n",
    "#print(hurricanes_dictionary) "
   ]
  },
  {
   "cell_type": "markdown",
   "id": "8079a749",
   "metadata": {},
   "source": [
    "`Refactoring: part 2 plus making a DataFrame and using pandas`"
   ]
  },
  {
   "cell_type": "code",
   "execution_count": 290,
   "id": "2f1d5204",
   "metadata": {},
   "outputs": [],
   "source": [
    "def making_dict(names, months, years, max_sustained_winds, areas_affected, damages, deaths) -> object:\n",
    "    return {names[i]:{\n",
    "        'name':names[i],\n",
    "        'month':months[i],\n",
    "        'year':years[i],\n",
    "        'max_wind':max_sustained_winds[i],\n",
    "        'area_affected':areas_affected[i],\n",
    "        'damages':damages[i],\n",
    "        'deaths': deaths[i]} for i in range(len(names))}\n",
    "hurricanes = making_dict(names, months, years, max_sustained_winds, areas_affected, damages, deaths)"
   ]
  },
  {
   "cell_type": "code",
   "execution_count": 291,
   "id": "f6caf7cb",
   "metadata": {},
   "outputs": [],
   "source": [
    "df = pd.DataFrame(data = hurricanes).T.reset_index()"
   ]
  },
  {
   "cell_type": "code",
   "execution_count": 292,
   "id": "70ceb54f",
   "metadata": {},
   "outputs": [],
   "source": [
    "df = df.drop(['index'], axis=1)"
   ]
  },
  {
   "cell_type": "code",
   "execution_count": 293,
   "id": "39f13ebc",
   "metadata": {},
   "outputs": [],
   "source": [
    "df.damages = convert(df.damages)"
   ]
  },
  {
   "cell_type": "code",
   "execution_count": 294,
   "id": "2b09bdf9",
   "metadata": {},
   "outputs": [
    {
     "data": {
      "text/html": [
       "<div>\n",
       "<style scoped>\n",
       "    .dataframe tbody tr th:only-of-type {\n",
       "        vertical-align: middle;\n",
       "    }\n",
       "\n",
       "    .dataframe tbody tr th {\n",
       "        vertical-align: top;\n",
       "    }\n",
       "\n",
       "    .dataframe thead th {\n",
       "        text-align: right;\n",
       "    }\n",
       "</style>\n",
       "<table border=\"1\" class=\"dataframe\">\n",
       "  <thead>\n",
       "    <tr style=\"text-align: right;\">\n",
       "      <th></th>\n",
       "      <th>name</th>\n",
       "      <th>month</th>\n",
       "      <th>year</th>\n",
       "      <th>max_wind</th>\n",
       "      <th>area_affected</th>\n",
       "      <th>damages</th>\n",
       "      <th>deaths</th>\n",
       "    </tr>\n",
       "  </thead>\n",
       "  <tbody>\n",
       "    <tr>\n",
       "      <th>0</th>\n",
       "      <td>Cuba I</td>\n",
       "      <td>October</td>\n",
       "      <td>1924</td>\n",
       "      <td>165</td>\n",
       "      <td>[Central America, Mexico, Cuba, Florida, The B...</td>\n",
       "      <td>Damages not recorded</td>\n",
       "      <td>90</td>\n",
       "    </tr>\n",
       "    <tr>\n",
       "      <th>1</th>\n",
       "      <td>San Felipe II Okeechobee</td>\n",
       "      <td>September</td>\n",
       "      <td>1928</td>\n",
       "      <td>160</td>\n",
       "      <td>[Lesser Antilles, The Bahamas, United States E...</td>\n",
       "      <td>100000000.0</td>\n",
       "      <td>4000</td>\n",
       "    </tr>\n",
       "    <tr>\n",
       "      <th>2</th>\n",
       "      <td>Bahamas</td>\n",
       "      <td>September</td>\n",
       "      <td>1932</td>\n",
       "      <td>160</td>\n",
       "      <td>[The Bahamas, Northeastern United States]</td>\n",
       "      <td>Damages not recorded</td>\n",
       "      <td>16</td>\n",
       "    </tr>\n",
       "    <tr>\n",
       "      <th>3</th>\n",
       "      <td>Cuba II</td>\n",
       "      <td>November</td>\n",
       "      <td>1932</td>\n",
       "      <td>175</td>\n",
       "      <td>[Lesser Antilles, Jamaica, Cayman Islands, Cub...</td>\n",
       "      <td>40000000.0</td>\n",
       "      <td>3103</td>\n",
       "    </tr>\n",
       "    <tr>\n",
       "      <th>4</th>\n",
       "      <td>CubaBrownsville</td>\n",
       "      <td>August</td>\n",
       "      <td>1933</td>\n",
       "      <td>160</td>\n",
       "      <td>[The Bahamas, Cuba, Florida, Texas, Tamaulipas]</td>\n",
       "      <td>27900000.0</td>\n",
       "      <td>179</td>\n",
       "    </tr>\n",
       "  </tbody>\n",
       "</table>\n",
       "</div>"
      ],
      "text/plain": [
       "                       name      month  year max_wind  \\\n",
       "0                    Cuba I    October  1924      165   \n",
       "1  San Felipe II Okeechobee  September  1928      160   \n",
       "2                   Bahamas  September  1932      160   \n",
       "3                   Cuba II   November  1932      175   \n",
       "4           CubaBrownsville     August  1933      160   \n",
       "\n",
       "                                       area_affected               damages  \\\n",
       "0  [Central America, Mexico, Cuba, Florida, The B...  Damages not recorded   \n",
       "1  [Lesser Antilles, The Bahamas, United States E...           100000000.0   \n",
       "2          [The Bahamas, Northeastern United States]  Damages not recorded   \n",
       "3  [Lesser Antilles, Jamaica, Cayman Islands, Cub...            40000000.0   \n",
       "4    [The Bahamas, Cuba, Florida, Texas, Tamaulipas]            27900000.0   \n",
       "\n",
       "  deaths  \n",
       "0     90  \n",
       "1   4000  \n",
       "2     16  \n",
       "3   3103  \n",
       "4    179  "
      ]
     },
     "execution_count": 294,
     "metadata": {},
     "output_type": "execute_result"
    }
   ],
   "source": [
    "df.head()"
   ]
  },
  {
   "cell_type": "markdown",
   "id": "6d0a1933",
   "metadata": {},
   "source": [
    "3. In addition to organizing the hurricanes in a dictionary with names as the key, you want to be able to organize the hurricanes by year.\n",
    "\n",
    "   Write a function that converts the current dictionary of hurricanes to a new dictionary, where the keys are years and the values are lists containing a dictionary for each hurricane that occurred in that year.\n",
    "   \n",
    "   For example, the key `1932` would yield the value: `[{'Name': 'Bahamas', 'Month': 'September', 'Year': 1932, 'Max Sustained Wind': 160, 'Areas Affected': ['The Bahamas', 'Northeastern United States'], 'Damage': 'Damage not recorded', 'Deaths': 16}, {'Name': 'Cuba II', 'Month': 'November', 'Year': 1932, 'Max Sustained Wind': 175, 'Areas Affected': ['Lesser Antilles', 'Jamaica', 'Cayman Islands', 'Cuba', 'The Bahamas', 'Bermuda'], 'Damage': 40000000.0, 'Deaths': 3103}]`.\n",
    "   \n",
    "   Test your function on your hurricane dictionary."
   ]
  },
  {
   "cell_type": "markdown",
   "id": "f8d74558",
   "metadata": {},
   "source": [
    "`Refactoring: part 3. It is almost the same code as yours but it is little bit shorter`"
   ]
  },
  {
   "cell_type": "code",
   "execution_count": 296,
   "id": "a86692d7",
   "metadata": {},
   "outputs": [],
   "source": [
    "#hurricanes"
   ]
  },
  {
   "cell_type": "code",
   "execution_count": 265,
   "id": "6a52c116",
   "metadata": {},
   "outputs": [],
   "source": [
    "def convert_dict(dict):\n",
    "    new = {}\n",
    "    for value in dict.values():\n",
    "        year = value['year']\n",
    "        if year in new:\n",
    "            new[year].append(value)\n",
    "        else:\n",
    "            new[year] = [value]\n",
    "    return new"
   ]
  },
  {
   "cell_type": "code",
   "execution_count": 266,
   "id": "40316a21",
   "metadata": {},
   "outputs": [],
   "source": [
    "groupedby_year = convert_dict(hurricanes)"
   ]
  },
  {
   "cell_type": "code",
   "execution_count": 298,
   "id": "c5c011fe",
   "metadata": {},
   "outputs": [],
   "source": [
    "#groupedby_year"
   ]
  },
  {
   "cell_type": "code",
   "execution_count": 269,
   "id": "1ef2edea",
   "metadata": {},
   "outputs": [
    {
     "name": "stdout",
     "output_type": "stream",
     "text": [
      "[{'Name': 'CubaBrownsville', 'Month': 'August', 'Year': 1933, 'Max Sustained Wind': 160, 'Areas Affected': ['The Bahamas', 'Cuba', 'Florida', 'Texas', 'Tamaulipas'], 'Damage': '27.9M', 'Deaths': 179}, {'Name': 'Tampico', 'Month': 'September', 'Year': 1933, 'Max Sustained Wind': 160, 'Areas Affected': ['Jamaica', 'Yucatn Peninsula'], 'Damage': '5M', 'Deaths': 184}]\n"
     ]
    }
   ],
   "source": [
    "# 3\n",
    "# Organizing by Year\n",
    "def organize_by_year(hurricanes_dictionary):\n",
    "    hurricanes_by_year = {}\n",
    "    for hurricane in hurricanes_dictionary.values():\n",
    "        year = hurricane['Year']\n",
    "        if year in hurricanes_by_year:\n",
    "            hurricanes_by_year[year].append(hurricane)\n",
    "        else:\n",
    "            hurricanes_by_year[year] = [hurricane]\n",
    "    return hurricanes_by_year\n",
    "\n",
    "# create a new dictionary of hurricanes with year as key\n",
    "hurricanes_by_year = organize_by_year(hurricanes_dictionary)\n",
    "print(hurricanes_by_year[1933])"
   ]
  },
  {
   "cell_type": "markdown",
   "id": "66973f77",
   "metadata": {},
   "source": [
    "4. You believe that knowing how often each of the areas of the Atlantic are affected by these strong hurricanes is important for making preparations for future hurricanes.\n",
    "\n",
    "   Write a function that counts how often each area is listed as an affected area of a hurricane. Store and return the results in a dictionary where the keys are the affected areas and the values are counts of how many times the areas were affected.\n",
    "   \n",
    "   Test your function on your hurricane dictionary."
   ]
  },
  {
   "cell_type": "code",
   "execution_count": 270,
   "id": "d7c4e293",
   "metadata": {},
   "outputs": [],
   "source": [
    "# Pandas is good to be used"
   ]
  },
  {
   "cell_type": "code",
   "execution_count": 271,
   "id": "eb9ec89d",
   "metadata": {},
   "outputs": [],
   "source": [
    "hurricanes_years = df[['year', 'name']].groupby(['year', 'name']).sum().reset_index()"
   ]
  },
  {
   "cell_type": "code",
   "execution_count": 272,
   "id": "391b50fc",
   "metadata": {},
   "outputs": [
    {
     "data": {
      "text/html": [
       "<div>\n",
       "<style scoped>\n",
       "    .dataframe tbody tr th:only-of-type {\n",
       "        vertical-align: middle;\n",
       "    }\n",
       "\n",
       "    .dataframe tbody tr th {\n",
       "        vertical-align: top;\n",
       "    }\n",
       "\n",
       "    .dataframe thead th {\n",
       "        text-align: right;\n",
       "    }\n",
       "</style>\n",
       "<table border=\"1\" class=\"dataframe\">\n",
       "  <thead>\n",
       "    <tr style=\"text-align: right;\">\n",
       "      <th></th>\n",
       "      <th>year</th>\n",
       "      <th>name</th>\n",
       "    </tr>\n",
       "  </thead>\n",
       "  <tbody>\n",
       "    <tr>\n",
       "      <th>0</th>\n",
       "      <td>1924</td>\n",
       "      <td>Cuba I</td>\n",
       "    </tr>\n",
       "    <tr>\n",
       "      <th>1</th>\n",
       "      <td>1928</td>\n",
       "      <td>San Felipe II Okeechobee</td>\n",
       "    </tr>\n",
       "    <tr>\n",
       "      <th>2</th>\n",
       "      <td>1932</td>\n",
       "      <td>Bahamas</td>\n",
       "    </tr>\n",
       "    <tr>\n",
       "      <th>3</th>\n",
       "      <td>1932</td>\n",
       "      <td>Cuba II</td>\n",
       "    </tr>\n",
       "    <tr>\n",
       "      <th>4</th>\n",
       "      <td>1933</td>\n",
       "      <td>CubaBrownsville</td>\n",
       "    </tr>\n",
       "  </tbody>\n",
       "</table>\n",
       "</div>"
      ],
      "text/plain": [
       "   year                      name\n",
       "0  1924                    Cuba I\n",
       "1  1928  San Felipe II Okeechobee\n",
       "2  1932                   Bahamas\n",
       "3  1932                   Cuba II\n",
       "4  1933           CubaBrownsville"
      ]
     },
     "execution_count": 272,
     "metadata": {},
     "output_type": "execute_result"
    }
   ],
   "source": [
    "hurricanes_years.head()"
   ]
  },
  {
   "cell_type": "markdown",
   "id": "6b6050e8",
   "metadata": {},
   "source": [
    "`Refactoring part 4-5`"
   ]
  },
  {
   "cell_type": "code",
   "execution_count": 273,
   "id": "463e383d",
   "metadata": {},
   "outputs": [],
   "source": [
    "def affected(dict):\n",
    "    affected = {}\n",
    "    for value in dict.values():\n",
    "        affecteds = value['area_affected']\n",
    "        for area in affecteds:\n",
    "            if area in affected:\n",
    "                affected[area] += 1\n",
    "            else:\n",
    "                affected[area] = 1\n",
    "    return affected    "
   ]
  },
  {
   "cell_type": "code",
   "execution_count": 301,
   "id": "73c48315",
   "metadata": {},
   "outputs": [],
   "source": [
    "#affected(hurricanes)"
   ]
  },
  {
   "cell_type": "code",
   "execution_count": 302,
   "id": "f86f7bb0",
   "metadata": {},
   "outputs": [
    {
     "name": "stdout",
     "output_type": "stream",
     "text": [
      "The most affected area is Central America and it hit by hurricanes 9 times.\n"
     ]
    }
   ],
   "source": [
    "def count_affect(dict):\n",
    "    max_value = 0\n",
    "    max_key = ''\n",
    "    for key, value in dict.items():\n",
    "        if value > max_value:\n",
    "            max_value = value\n",
    "            max_key += key\n",
    "    return max_key, max_value\n",
    "check_affected = count_affect(affected(hurricanes))\n",
    "print(f'The most affected area is {check_affected[0]} and it hit by hurricanes {check_affected[1]} times.')"
   ]
  },
  {
   "cell_type": "code",
   "execution_count": 276,
   "id": "bff86f77",
   "metadata": {},
   "outputs": [
    {
     "name": "stdout",
     "output_type": "stream",
     "text": [
      "{'Central America': 9, 'Mexico': 7, 'Cuba': 6, 'Florida': 6, 'The Bahamas': 7, 'Lesser Antilles': 4, 'United States East Coast': 3, 'Atlantic Canada': 3, 'Northeastern United States': 2, 'Jamaica': 4, 'Cayman Islands': 1, 'Bermuda': 2, 'Texas': 4, 'Tamaulipas': 1, 'Yucatn Peninsula': 3, 'Georgia': 1, 'The Carolinas': 1, 'Virginia': 1, 'Southeastern United States': 1, 'Southwestern Quebec': 1, 'New England': 1, 'Louisiana': 1, 'Midwestern United States': 1, 'The Caribbean': 8, 'United States Gulf Coast': 6, 'United States East coast': 1, 'South Texas': 1, 'Venezuela': 3, 'Hispaniola': 1, 'South Florida': 1, 'Greater Antilles': 2, 'Bahamas': 2, 'Eastern United States': 1, 'Ontario': 1, 'Windward Islands': 1, 'Nicaragua': 1, 'Honduras': 1, 'Antilles': 1, 'Colombia': 1, 'Cape Verde': 1, 'British Virgin Islands': 1, 'U.S. Virgin Islands': 1, 'Virgin Islands': 1, 'Puerto Rico': 1, 'Dominican Republic': 1, 'Turks and Caicos Islands': 1, 'United States Gulf Coast (especially Florida Panhandle)': 1}\n"
     ]
    }
   ],
   "source": [
    "# 4\n",
    "# Counting Damaged Areas\n",
    "def count_damaged_areas(hurricanes_dictionary):\n",
    "    area_counts = {}\n",
    "    for hurricane in hurricanes_dictionary.values():\n",
    "        areas = hurricane['Areas Affected']\n",
    "        for area in areas:\n",
    "            area_counts[area] = area_counts.get(area, 0) + 1\n",
    "    return area_counts\n",
    "            \n",
    "# create dictionary of areas to store the number of hurricanes involved in\n",
    "area_to_hurricanes_number = count_damaged_areas(hurricanes_dictionary)\n",
    "print(area_to_hurricanes_number)"
   ]
  },
  {
   "cell_type": "markdown",
   "id": "e015eeb3",
   "metadata": {},
   "source": [
    "5. Write a function that finds the area affected by the most hurricanes, and how often it was hit.\n",
    "\n",
    "   Test your function on your affected area dictionary."
   ]
  },
  {
   "cell_type": "code",
   "execution_count": 277,
   "id": "643c73f9",
   "metadata": {},
   "outputs": [
    {
     "name": "stdout",
     "output_type": "stream",
     "text": [
      "Central America was affected by the most hurricanes, namely 9\n"
     ]
    }
   ],
   "source": [
    "# 5\n",
    "# Calculating Maximum Hurricane Count\n",
    "def maximum_hurricane_count(area_counts):\n",
    "    max_count = 0\n",
    "    most_affected_area = ''\n",
    "    for area, count in area_counts.items():\n",
    "        if count > max_count:\n",
    "            max_count = count\n",
    "            most_affected_area = area\n",
    "    return (most_affected_area, max_count)\n",
    "            \n",
    "\n",
    "# find most frequently affected area and the number of hurricanes involved in\n",
    "most_affected_area, max_count = maximum_hurricane_count(area_to_hurricanes_number)\n",
    "print(\"{} was affected by the most hurricanes, namely {}\".format(most_affected_area, max_count))"
   ]
  },
  {
   "cell_type": "code",
   "execution_count": null,
   "id": "4199f019",
   "metadata": {},
   "outputs": [],
   "source": []
  },
  {
   "cell_type": "markdown",
   "id": "4c120f59",
   "metadata": {},
   "source": [
    "6. Write a function that finds the hurricane that caused the greatest number of deaths, and how many deaths it caused.\n",
    "\n",
    "   Test your function on your hurricane dictionary."
   ]
  },
  {
   "cell_type": "markdown",
   "id": "0aa6a16a",
   "metadata": {},
   "source": [
    "`Refactoring: part 6`"
   ]
  },
  {
   "cell_type": "code",
   "execution_count": 306,
   "id": "ced02448",
   "metadata": {},
   "outputs": [
    {
     "name": "stdout",
     "output_type": "stream",
     "text": [
      "Hurricane Mitch caused the greatest number of deaths, namely 19325\n",
      "Hurricane Mitch caused the greatest number of deaths, namely 19325\n"
     ]
    }
   ],
   "source": [
    "# 6\n",
    "# Calculating the Deadliest Hurricane\n",
    "def deadliest_hurricane(hurricanes_dictionary):\n",
    "    max_deaths = 0\n",
    "    hurricane_name = ''\n",
    "    for hurricane in hurricanes_dictionary.values():\n",
    "        deaths = hurricane['Deaths']\n",
    "        if deaths >  max_deaths:\n",
    "            max_deaths = deaths\n",
    "            hurricane_name = hurricane['Name']\n",
    "    return (hurricane_name, max_deaths)\n",
    "\n",
    "# find highest mortality hurricane and the number of deaths\n",
    "hurricane_name, max_deaths = deadliest_hurricane(hurricanes_dictionary)\n",
    "a = deadliest_hurricane(hurricanes_dictionary)\n",
    "print(\"Hurricane {} caused the greatest number of deaths, namely {}\".format(hurricane_name, max_deaths))\n",
    "print(f'Hurricane {a[0]} caused the greatest number of deaths, namely {a[1]}')####################shorter"
   ]
  },
  {
   "cell_type": "markdown",
   "id": "9ddd39b0",
   "metadata": {},
   "source": [
    "7. Just as hurricanes are rated by their windspeed, you want to try rating hurricanes based on other metrics.\n",
    "\n",
    "   Write a function that rates hurricanes on a mortality scale according to the following ratings, where the key is the rating and the value is the upper bound of deaths for that rating.\n",
    "   \n",
    "   ```py\n",
    "   mortality_scale = {0: 0,\n",
    "   1: 100,\n",
    "   2: 500,\n",
    "   3: 1000,\n",
    "   4: 10000}\n",
    "   ```\n",
    "   \n",
    "   For example, a hurricane with a `1` mortality rating would have resulted in greater than `0` but less than or equal to `100` deaths. A hurricane with a `5` mortality would have resulted in greater than `10000` deaths.\n",
    "   \n",
    "   Store the hurricanes in a new dictionary where the keys are the mortaility ratings and the values are lists containing a dictionary for each hurricane that falls into that mortality rating.\n",
    "   \n",
    "   Test your function on your hurricane dictionary."
   ]
  },
  {
   "cell_type": "code",
   "execution_count": 279,
   "id": "9eea4dc7",
   "metadata": {},
   "outputs": [
    {
     "name": "stdout",
     "output_type": "stream",
     "text": [
      "[{'Name': 'Mitch', 'Month': 'October', 'Year': 1998, 'Max Sustained Wind': 180, 'Areas Affected': ['Central America', 'Yucatn Peninsula', 'South Florida'], 'Damage': '6.2B', 'Deaths': 19325}]\n"
     ]
    }
   ],
   "source": [
    "# 7\n",
    "# Rating Hurricanes by Mortality\n",
    "def get_mortality_rating(deaths):\n",
    "    if deaths <= 0:\n",
    "        return 0\n",
    "    elif deaths <= 100:\n",
    "        return 1\n",
    "    elif deaths <= 500:\n",
    "        return 2\n",
    "    elif deaths <= 1000:\n",
    "        return 3\n",
    "    elif deaths <= 10000:\n",
    "        return 4\n",
    "    else:\n",
    "        return 5\n",
    "    \n",
    "def organize_by_mortality_rating(hurricanes_dictionary):\n",
    "    hurricanes_by_mortality = {}\n",
    "    for hurricane in hurricanes_dictionary.values():\n",
    "        mortality = get_mortality_rating(hurricane['Deaths'])\n",
    "        if mortality in hurricanes_by_mortality:\n",
    "            hurricanes_by_mortality[mortality].append(hurricane)\n",
    "        else:\n",
    "            hurricanes_by_mortality[mortality] = [hurricane]\n",
    "    return hurricanes_by_mortality\n",
    "\n",
    "# categorize hurricanes in new dictionary with mortality severity as key\n",
    "hurricanes_by_mortality = organize_by_mortality_rating(hurricanes_dictionary)\n",
    "print(hurricanes_by_mortality[5])"
   ]
  },
  {
   "cell_type": "markdown",
   "id": "199b0e1c",
   "metadata": {},
   "source": [
    "8. Write a function that finds the hurricane that caused the greatest damage, and how costly it was.\n",
    "\n",
    "   Test your function on your hurricane dictionary."
   ]
  },
  {
   "cell_type": "code",
   "execution_count": 280,
   "id": "b3dc79b4",
   "metadata": {},
   "outputs": [
    {
     "name": "stdout",
     "output_type": "stream",
     "text": [
      "Hurricane Katrina caused the greatest cost, namely 125000000000.0$\n"
     ]
    }
   ],
   "source": [
    "# 8\n",
    "# Calculating Hurricane Maximum Damage\n",
    "def convert_to_float(value):\n",
    "    last_char = value[-1]\n",
    "    if last_char in \"BM\":\n",
    "        value = float(value[:-1]) * conversion[last_char]\n",
    "    else:\n",
    "        value = None\n",
    "    return value\n",
    "\n",
    "def hurricane_maximum_damage(hurricanes_dictionary):\n",
    "    max_damage = 0\n",
    "    hurricane_name = ''\n",
    "    for hurricane in hurricanes_dictionary.values():\n",
    "        damage = convert_to_float(hurricane['Damage'])\n",
    "        if damage is not None and damage > max_damage: # skip hurricanes where damage was not recorded\n",
    "            max_damage = damage\n",
    "            hurricane_name = hurricane['Name']\n",
    "    return (hurricane_name, max_damage)\n",
    "\n",
    "# find highest damage inducing hurricane and its total cost\n",
    "hurricane_name, max_damage = hurricane_maximum_damage(hurricanes_dictionary)\n",
    "print(\"Hurricane {} caused the greatest cost, namely {}$\".format(hurricane_name, max_damage))"
   ]
  },
  {
   "cell_type": "markdown",
   "id": "58d22ddc",
   "metadata": {},
   "source": [
    "9. Lastly, you want to rate hurricanes according to how much damage they cause.\n",
    "\n",
    "   Write a function that rates hurricanes on a damage scale according to the following ratings, where the key is the rating and the value is the upper bound of damage for that rating.\n",
    "   ```py\n",
    "   damage_scale = {0: 0,\n",
    "   1: 100000000,\n",
    "   2: 1000000000,\n",
    "   3: 10000000000,\n",
    "   4: 50000000000}\n",
    "   ```\n",
    "   \n",
    "   For example, a hurricane with a `1` damage rating would have resulted in damages greater than `0` USD but less than or equal to `100000000` USD. A hurricane with a `5` damage rating would have resulted in damages greater than `50000000000` USD (talk about a lot of money).\n",
    "   \n",
    "   Store the hurricanes in a new dictionary where the keys are damage ratings and the values are lists containing a dictionary for each hurricane that falls into that damage rating.\n",
    "   \n",
    "   Test your function on your hurricane dictionary."
   ]
  },
  {
   "cell_type": "code",
   "execution_count": 281,
   "id": "e543f487",
   "metadata": {},
   "outputs": [
    {
     "name": "stdout",
     "output_type": "stream",
     "text": [
      "[{'Name': 'Katrina', 'Month': 'August', 'Year': 2005, 'Max Sustained Wind': 175, 'Areas Affected': ['Bahamas', 'United States Gulf Coast'], 'Damage': '125B', 'Deaths': 1836}, {'Name': 'Irma', 'Month': 'September', 'Year': 2017, 'Max Sustained Wind': 180, 'Areas Affected': ['Cape Verde', 'The Caribbean', 'British Virgin Islands', 'U.S. Virgin Islands', 'Cuba', 'Florida'], 'Damage': '64.8B', 'Deaths': 138}, {'Name': 'Maria', 'Month': 'September', 'Year': 2017, 'Max Sustained Wind': 175, 'Areas Affected': ['Lesser Antilles', 'Virgin Islands', 'Puerto Rico', 'Dominican Republic', 'Turks and Caicos Islands'], 'Damage': '91.6B', 'Deaths': 3057}]\n"
     ]
    }
   ],
   "source": [
    "# 9\n",
    "# Rating Hurricanes by Damage\n",
    "damage_scale = {0: 0,\n",
    "                1: 100000000,\n",
    "                2: 1000000000,\n",
    "                3: 10000000000,\n",
    "                4: 50000000000}\n",
    "def get_damage_rating(damage):\n",
    "    if damage <= damage_scale[0]:\n",
    "        return 0\n",
    "    elif damage <= damage_scale[1]:\n",
    "        return 1\n",
    "    elif damage <= damage_scale[2]:\n",
    "        return 2\n",
    "    elif damage <= damage_scale[3]:\n",
    "        return 3\n",
    "    elif damage <= damage_scale[4]:\n",
    "        return 4\n",
    "    else:\n",
    "        return 5\n",
    "    \n",
    "def organize_by_damage_rating(hurricanes_dictionary):\n",
    "    hurricanes_by_damage = {}\n",
    "    for hurricane in hurricanes_dictionary.values():\n",
    "        damage = convert_to_float(hurricane['Damage'])\n",
    "        if damage is not None: # skip hurricanes where damage was not recorded\n",
    "            damage_rating = get_damage_rating(damage)\n",
    "            if damage_rating in hurricanes_by_damage:\n",
    "                hurricanes_by_damage[damage_rating].append(hurricane)\n",
    "            else:\n",
    "                hurricanes_by_damage[damage_rating] = [hurricane]\n",
    "    return hurricanes_by_damage\n",
    "\n",
    "# categorize hurricanes in new dictionary with damage severity as key\n",
    "hurricanes_by_damage = organize_by_damage_rating(hurricanes_dictionary)\n",
    "print(hurricanes_by_damage[5])"
   ]
  },
  {
   "cell_type": "markdown",
   "id": "928c5fd2",
   "metadata": {},
   "source": [
    "## Solution"
   ]
  },
  {
   "cell_type": "markdown",
   "id": "252616a3",
   "metadata": {},
   "source": [
    "Great work! View the **Hurricane Analysis_Solution.ipynb** file or visit [our forums](https://discuss.codecademy.com/t/hurricane-analysis-challenge-project-python/462363) to compare your project to our sample solution code. You can also learn how to host your own solution on GitHub so you can share it with other learners! Your solution might look different than ours, and that's okay! There are multiple ways to solve these projects, and you'll learn more by seeing others' code."
   ]
  },
  {
   "cell_type": "code",
   "execution_count": null,
   "id": "da8f7141",
   "metadata": {},
   "outputs": [],
   "source": []
  }
 ],
 "metadata": {
  "kernelspec": {
   "display_name": "Python 3 (ipykernel)",
   "language": "python",
   "name": "python3"
  },
  "language_info": {
   "codemirror_mode": {
    "name": "ipython",
    "version": 3
   },
   "file_extension": ".py",
   "mimetype": "text/x-python",
   "name": "python",
   "nbconvert_exporter": "python",
   "pygments_lexer": "ipython3",
   "version": "3.11.4"
  },
  "vscode": {
   "interpreter": {
    "hash": "b784193cf0f9970b27f3c12f21dbff8ed97e3cf923dc23fe210654173bc3fdd0"
   }
  }
 },
 "nbformat": 4,
 "nbformat_minor": 5
}
